{
  "nbformat": 4,
  "nbformat_minor": 0,
  "metadata": {
    "colab": {
      "provenance": [],
      "include_colab_link": true
    },
    "kernelspec": {
      "name": "python3",
      "display_name": "Python 3"
    },
    "language_info": {
      "name": "python"
    }
  },
  "cells": [
    {
      "cell_type": "markdown",
      "metadata": {
        "id": "view-in-github",
        "colab_type": "text"
      },
      "source": [
        "<a href=\"https://colab.research.google.com/github/wesleycoutinhodev/pln-b2w-reviews/blob/main/notebooks/Operacoes_4_5_Conversao_Split.ipynb\" target=\"_parent\"><img src=\"https://colab.research.google.com/assets/colab-badge.svg\" alt=\"Open In Colab\"/></a>"
      ]
    },
    {
      "cell_type": "code",
      "execution_count": 21,
      "metadata": {
        "id": "6FZL3buzzJtj",
        "colab": {
          "base_uri": "https://localhost:8080/"
        },
        "outputId": "8dd862fc-afe0-4548-816e-ccc8c35ea32d"
      },
      "outputs": [
        {
          "output_type": "stream",
          "name": "stdout",
          "text": [
            "Drive already mounted at /content/drive; to attempt to forcibly remount, call drive.mount(\"/content/drive\", force_remount=True).\n",
            "🚀 Notebook configurado com sucesso!\n"
          ]
        }
      ],
      "source": [
        "# Header padrão para todos os notebooks\n",
        "\"\"\"\n",
        "# PLN - B2W Reviews Analysis\n",
        "# Operação X: [Nome da Operação]\n",
        "# Equipe: Wesley, Averinaldo, Carlos Daniel, Paulo Henrique\n",
        "# UFPI - 2024.2\n",
        "\"\"\"\n",
        "\n",
        "# Imports padrão\n",
        "import pandas as pd\n",
        "import numpy as np\n",
        "import matplotlib.pyplot as plt\n",
        "import seaborn as sns\n",
        "from google.colab import drive\n",
        "import warnings\n",
        "warnings.filterwarnings('ignore')\n",
        "\n",
        "# Configurações\n",
        "plt.style.use('seaborn-v0_8')\n",
        "sns.set_palette(\"husl\")\n",
        "pd.set_option('display.max_columns', None)\n",
        "\n",
        "# Mount Drive e Setup\n",
        "drive.mount('/content/drive')\n",
        "BASE_PATH = '/content/drive/MyDrive/PLN_B2W_Reviews'\n",
        "\n",
        "print(\"🚀 Notebook configurado com sucesso!\")"
      ]
    },
    {
      "cell_type": "code",
      "metadata": {
        "colab": {
          "base_uri": "https://localhost:8080/"
        },
        "id": "b564b7c9",
        "outputId": "431c040a-60e8-4ed7-c85e-7d033f7b00be"
      },
      "source": [
        "# Caminho para o dataset limpo\n",
        "DATASET_PATH = f'{BASE_PATH}/data/processed/b2w_reviews_samsung_cleaned.csv'\n",
        "\n",
        "# Carregamento do dataset\n",
        "try:\n",
        "    df_cleaned = pd.read_csv(DATASET_PATH)\n",
        "    print(f\"📊 Dataset carregado com sucesso: {df_cleaned.shape[0]:,} linhas x {df_cleaned.shape[1]} colunas\")\n",
        "    print(f\"📋 Colunas: {list(df_cleaned.columns)}\")\n",
        "    print(\"\\n📋 Informações do dataset:\")\n",
        "    df_cleaned.info()\n",
        "except FileNotFoundError:\n",
        "    print(f\"❌ Erro: O arquivo não foi encontrado no caminho especificado: {DATASET_PATH}\")\n",
        "except Exception as e:\n",
        "    print(f\"❌ Ocorreu um erro ao carregar o dataset: {e}\")"
      ],
      "execution_count": 22,
      "outputs": [
        {
          "output_type": "stream",
          "name": "stdout",
          "text": [
            "📊 Dataset carregado com sucesso: 5,753 linhas x 3 colunas\n",
            "📋 Colunas: ['review_text', 'overall_rating', 'recommend_to_a_friend']\n",
            "\n",
            "📋 Informações do dataset:\n",
            "<class 'pandas.core.frame.DataFrame'>\n",
            "RangeIndex: 5753 entries, 0 to 5752\n",
            "Data columns (total 3 columns):\n",
            " #   Column                 Non-Null Count  Dtype \n",
            "---  ------                 --------------  ----- \n",
            " 0   review_text            5753 non-null   object\n",
            " 1   overall_rating         5753 non-null   int64 \n",
            " 2   recommend_to_a_friend  5753 non-null   object\n",
            "dtypes: int64(1), object(2)\n",
            "memory usage: 135.0+ KB\n"
          ]
        }
      ]
    },
    {
      "cell_type": "code",
      "metadata": {
        "colab": {
          "base_uri": "https://localhost:8080/"
        },
        "id": "66f2d014",
        "outputId": "328cb411-1d4f-42b8-f7f9-2c50c21f91b9"
      },
      "source": [
        "# Convertendo a coluna 'recommend_to_a_friend' para int\n",
        "df_cleaned['recommend_to_a_friend'] = df_cleaned['recommend_to_a_friend'].map({'Yes': 1, 'No': 0})\n",
        "\n",
        "print(\"✅ Coluna 'recommend_to_a_friend' convertida para int.\")\n",
        "print(\"\\n📋 Informações atualizadas do dataset:\")\n",
        "df_cleaned.info()"
      ],
      "execution_count": 23,
      "outputs": [
        {
          "output_type": "stream",
          "name": "stdout",
          "text": [
            "✅ Coluna 'recommend_to_a_friend' convertida para int.\n",
            "\n",
            "📋 Informações atualizadas do dataset:\n",
            "<class 'pandas.core.frame.DataFrame'>\n",
            "RangeIndex: 5753 entries, 0 to 5752\n",
            "Data columns (total 3 columns):\n",
            " #   Column                 Non-Null Count  Dtype \n",
            "---  ------                 --------------  ----- \n",
            " 0   review_text            5753 non-null   object\n",
            " 1   overall_rating         5753 non-null   int64 \n",
            " 2   recommend_to_a_friend  5753 non-null   int64 \n",
            "dtypes: int64(2), object(1)\n",
            "memory usage: 135.0+ KB\n"
          ]
        }
      ]
    },
    {
      "cell_type": "code",
      "metadata": {
        "colab": {
          "base_uri": "https://localhost:8080/"
        },
        "id": "cb894662",
        "outputId": "02294e2e-722c-4639-9161-37364a143663"
      },
      "source": [
        "# Caminho para salvar o dataset modificado\n",
        "OUTPUT_DATASET_PATH = f'{BASE_PATH}/data/processed/b2w_reviews_samsung_modified.csv'\n",
        "\n",
        "# Salvando o dataset modificado\n",
        "try:\n",
        "    df_cleaned.to_csv(OUTPUT_DATASET_PATH, index=False)\n",
        "    print(f\"✅ Dataset modificado salvo com sucesso em: {OUTPUT_DATASET_PATH}\")\n",
        "except Exception as e:\n",
        "    print(f\"❌ Ocorreu um erro ao salvar o dataset: {e}\")"
      ],
      "execution_count": 24,
      "outputs": [
        {
          "output_type": "stream",
          "name": "stdout",
          "text": [
            "✅ Dataset modificado salvo com sucesso em: /content/drive/MyDrive/PLN_B2W_Reviews/data/processed/b2w_reviews_samsung_modified.csv\n"
          ]
        }
      ]
    },
    {
      "cell_type": "code",
      "metadata": {
        "colab": {
          "base_uri": "https://localhost:8080/"
        },
        "id": "6b478ca5",
        "outputId": "ed802563-8c80-47d9-8604-d770f4724711"
      },
      "source": [
        "from sklearn.model_selection import train_test_split\n",
        "\n",
        "# Separando features (X) e target (y) - exemplo: usando review_text para prever recommendation\n",
        "# Você pode ajustar X e y dependendo do seu objetivo de modelagem\n",
        "X = df_cleaned['review_text']\n",
        "y = df_cleaned['recommend_to_a_friend'] # Ou 'overall_rating' dependendo do objetivo\n",
        "\n",
        "# Separando o dataset em treino e teste (80/20 split)\n",
        "# random_state para reprodutibilidade\n",
        "X_train, X_test, y_train, y_test = train_test_split(X, y, test_size=0.2, random_state=42)\n",
        "\n",
        "print(f\"✅ Dataset separado em treino e teste com sucesso!\")\n",
        "print(f\"Shape do conjunto de treino (X_train): {X_train.shape}\")\n",
        "print(f\"Shape do conjunto de teste (X_test): {X_test.shape}\")\n",
        "print(f\"Shape do target de treino (y_train): {y_train.shape}\")\n",
        "print(f\"Shape do target de teste (y_test): {y_test.shape}\")"
      ],
      "execution_count": 25,
      "outputs": [
        {
          "output_type": "stream",
          "name": "stdout",
          "text": [
            "✅ Dataset separado em treino e teste com sucesso!\n",
            "Shape do conjunto de treino (X_train): (4602,)\n",
            "Shape do conjunto de teste (X_test): (1151,)\n",
            "Shape do target de treino (y_train): (4602,)\n",
            "Shape do target de teste (y_test): (1151,)\n"
          ]
        }
      ]
    },
    {
      "cell_type": "code",
      "metadata": {
        "colab": {
          "base_uri": "https://localhost:8080/"
        },
        "id": "2f49553d",
        "outputId": "4c932ea6-c437-440a-f6dc-b77d2e132ef2"
      },
      "source": [
        "# Caminhos para salvar os conjuntos de treino e teste\n",
        "X_train_path = f'{BASE_PATH}/data/processed/X_train.csv'\n",
        "X_test_path = f'{BASE_PATH}/data/processed/X_test.csv'\n",
        "y_train_path = f'{BASE_PATH}/data/processed/y_train.csv'\n",
        "y_test_path = f'{BASE_PATH}/data/processed/y_test.csv'\n",
        "\n",
        "# Salvando os conjuntos\n",
        "try:\n",
        "    X_train.to_csv(X_train_path, index=False, header=True)\n",
        "    X_test.to_csv(X_test_path, index=False, header=True)\n",
        "    y_train.to_csv(y_train_path, index=False, header=True)\n",
        "    y_test.to_csv(y_test_path, index=False, header=True)\n",
        "    print(\"✅ Conjuntos de treino e teste salvos com sucesso!\")\n",
        "except Exception as e:\n",
        "    print(f\"❌ Ocorreu um erro ao salvar os conjuntos: {e}\")"
      ],
      "execution_count": 26,
      "outputs": [
        {
          "output_type": "stream",
          "name": "stdout",
          "text": [
            "✅ Conjuntos de treino e teste salvos com sucesso!\n"
          ]
        }
      ]
    }
  ]
}