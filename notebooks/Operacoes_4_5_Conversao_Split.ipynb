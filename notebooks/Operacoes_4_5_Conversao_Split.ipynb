{
  "nbformat": 4,
  "nbformat_minor": 0,
  "metadata": {
    "colab": {
      "provenance": [],
      "authorship_tag": "ABX9TyPIfe3eWjJyg4sHTrTrqUKD",
      "include_colab_link": true
    },
    "kernelspec": {
      "name": "python3",
      "display_name": "Python 3"
    },
    "language_info": {
      "name": "python"
    }
  },
  "cells": [
    {
      "cell_type": "markdown",
      "metadata": {
        "id": "view-in-github",
        "colab_type": "text"
      },
      "source": [
        "<a href=\"https://colab.research.google.com/github/wesleycoutinhodev/pln-b2w-reviews/blob/main/notebooks/Operacoes_4_5_Conversao_Split.ipynb\" target=\"_parent\"><img src=\"https://colab.research.google.com/assets/colab-badge.svg\" alt=\"Open In Colab\"/></a>"
      ]
    },
    {
      "cell_type": "code",
      "execution_count": null,
      "metadata": {
        "id": "6FZL3buzzJtj"
      },
      "outputs": [],
      "source": [
        "# Header padrão para todos os notebooks\n",
        "\"\"\"\n",
        "# PLN - B2W Reviews Analysis\n",
        "# Operação X: [Nome da Operação]\n",
        "# Equipe: Wesley, Averinaldo, Carlos Daniel, Paulo Henrique\n",
        "# UFPI - 2024.2\n",
        "\"\"\"\n",
        "\n",
        "# Imports padrão\n",
        "import pandas as pd\n",
        "import numpy as np\n",
        "import matplotlib.pyplot as plt\n",
        "import seaborn as sns\n",
        "from google.colab import drive\n",
        "import warnings\n",
        "warnings.filterwarnings('ignore')\n",
        "\n",
        "# Configurações\n",
        "plt.style.use('seaborn-v0_8')\n",
        "sns.set_palette(\"husl\")\n",
        "pd.set_option('display.max_columns', None)\n",
        "\n",
        "# Mount Drive e Setup\n",
        "drive.mount('/content/drive')\n",
        "BASE_PATH = '/content/drive/MyDrive/PLN_B2W_Reviews'\n",
        "\n",
        "print(\"🚀 Notebook configurado com sucesso!\")"
      ]
    }
  ]
}