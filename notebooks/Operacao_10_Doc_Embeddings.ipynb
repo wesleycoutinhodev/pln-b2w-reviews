{
  "cells": [
    {
      "cell_type": "markdown",
      "metadata": {
        "colab_type": "text",
        "id": "view-in-github"
      },
      "source": [
        "<a href=\"https://colab.research.google.com/github/wesleycoutinhodev/pln-b2w-reviews/blob/main/notebooks/Operacao_10_Doc_Embeddings.ipynb\" target=\"_parent\"><img src=\"https://colab.research.google.com/assets/colab-badge.svg\" alt=\"Open In Colab\"/></a>"
      ]
    },
    {
      "cell_type": "code",
      "execution_count": null,
      "metadata": {
        "id": "pz6TWaei25eS"
      },
      "outputs": [],
      "source": [
        "# Monte o Google Drive\n",
        "from google.colab import drive\n",
        "drive.mount('/content/drive')\n",
        "\n",
        "# Download do dataset\n",
        "!gdown --id 1_Elg5O_H0fJ1mIWEKkb6q4ul9x7SIhnk -O /content/drive/MyDrive/pln_data/"
      ]
    },
    {
      "cell_type": "code",
      "execution_count": null,
      "metadata": {},
      "outputs": [],
      "source": [
        "!pip install gensim\n",
        "# Executar no início dos notebooks\n",
        "!pip install gensim sentence-transformers\n",
        "!pip install wordcloud plotly\n",
        "\n",
        "# Para downloads do dataset\n",
        "!pip install gdown"
      ]
    },
    {
      "cell_type": "code",
      "execution_count": null,
      "metadata": {},
      "outputs": [],
      "source": [
        "# Verificar uso de RAM\n",
        "!cat /proc/meminfo | head -n 3\n",
        "\n",
        "# Verificar GPU disponível\n",
        "!nvidia-smi"
      ]
    },
    {
      "cell_type": "code",
      "execution_count": null,
      "metadata": {},
      "outputs": [],
      "source": [
        "# Bibliotecas principais\n",
        "import pandas as pd\n",
        "import numpy as np\n",
        "import matplotlib.pyplot as plt\n",
        "import seaborn as sns\n",
        "\n",
        "# Pré-processamento\n",
        "from sklearn.model_selection import train_test_split\n",
        "from sklearn.feature_extraction.text import CountVectorizer, TfidfVectorizer"
      ]
    },
    {
      "cell_type": "code",
      "execution_count": null,
      "metadata": {},
      "outputs": [],
      "source": [
        "# TensorFlow/Keras\n",
        "import tensorflow as tf\n",
        "from tensorflow.keras.layers import TextVectorization\n",
        "\n",
        "# Word Embeddings\n",
        "import gensim\n",
        "from gensim.models import Word2Vec, Doc2Vec\n",
        "from sentence_transformers import SentenceTransformer\n",
        "\n",
        "# NLTK\n",
        "import nltk\n",
        "nltk.download('stopwords')\n",
        "from nltk.corpus import stopwords"
      ]
    },
    {
      "cell_type": "code",
      "execution_count": null,
      "metadata": {},
      "outputs": [],
      "source": [
        "reviews = pd.read_csv('/content/drive/MyDrive/PLN_B2W_Reviews/data/processed/b2w_reviews_samsung_modified.csv')\n",
        "reviews"
      ]
    },
    {
      "cell_type": "code",
      "execution_count": null,
      "metadata": {},
      "outputs": [],
      "source": [
        "all_reviews = reviews['review_text']\n",
        "all_reviews"
      ]
    },
    {
      "cell_type": "code",
      "execution_count": null,
      "metadata": {},
      "outputs": [],
      "source": [
        "from gensim.models.doc2vec import Doc2Vec, TaggedDocument"
      ]
    },
    {
      "cell_type": "code",
      "execution_count": null,
      "metadata": {},
      "outputs": [],
      "source": [
        "reviews_tokens = [r.split() for r in all_reviews]\n",
        "reviews_tokens"
      ]
    },
    {
      "cell_type": "code",
      "execution_count": null,
      "metadata": {},
      "outputs": [],
      "source": [
        "tagged_data = [TaggedDocument(words=words, tags=[str(i)]) for i, words in enumerate(reviews_tokens)]\n",
        "\n",
        "# Treinando o Doc2Vec\n",
        "model_doc2vec = Doc2Vec(\n",
        "    vector_size=100,\n",
        "    window=5,\n",
        "    min_count=1,\n",
        "    workers=4,\n",
        "    epochs=20,\n",
        "    dm=1\n",
        ")\n",
        "\n",
        "model_doc2vec.build_vocab(tagged_data)\n",
        "model_doc2vec.train(tagged_data, total_examples=model_doc2vec.corpus_count, epochs=model_doc2vec.epochs)"
      ]
    },
    {
      "cell_type": "code",
      "execution_count": null,
      "metadata": {},
      "outputs": [],
      "source": [
        "vectors_doc2vec = [model_doc2vec.dv[str(i)] for i in range(len(reviews))]\n",
        "\n",
        "print(\"Embedding do primeiro review:\", vectors_doc2vec[0])"
      ]
    },
    {
      "cell_type": "code",
      "execution_count": null,
      "metadata": {},
      "outputs": [],
      "source": [
        "from sentence_transformers import SentenceTransformer"
      ]
    },
    {
      "cell_type": "code",
      "execution_count": null,
      "metadata": {},
      "outputs": [],
      "source": [
        "model_sbert = SentenceTransformer(\"sentence-transformers/paraphrase-multilingual-MiniLM-L12-v2\")"
      ]
    },
    {
      "cell_type": "code",
      "execution_count": null,
      "metadata": {},
      "outputs": [],
      "source": [
        "vectors_sbert = model_sbert.encode(all_reviews)\n",
        "\n",
        "print(\"Dimensão dos embeddings SBERT:\", vectors_sbert.shape)\n",
        "print(\"Embedding do primeiro review:\", vectors_sbert[0])"
      ]
    }
  ],
  "metadata": {
    "colab": {
      "authorship_tag": "ABX9TyPn00C4t7Mupasju2XCpX+T",
      "include_colab_link": true,
      "provenance": []
    },
    "kernelspec": {
      "display_name": "Python 3",
      "name": "python3"
    },
    "language_info": {
      "name": "python"
    }
  },
  "nbformat": 4,
  "nbformat_minor": 0
}
