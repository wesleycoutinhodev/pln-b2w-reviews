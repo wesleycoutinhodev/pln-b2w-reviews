{
  "nbformat": 4,
  "nbformat_minor": 0,
  "metadata": {
    "colab": {
      "provenance": [],
      "include_colab_link": true
    },
    "kernelspec": {
      "name": "python3",
      "display_name": "Python 3"
    },
    "language_info": {
      "name": "python"
    }
  },
  "cells": [
    {
      "cell_type": "markdown",
      "metadata": {
        "id": "view-in-github",
        "colab_type": "text"
      },
      "source": [
        "<a href=\"https://colab.research.google.com/github/wesleycoutinhodev/pln-b2w-reviews/blob/main/notebooks/Operacao_6_TextVectorization.ipynb\" target=\"_parent\"><img src=\"https://colab.research.google.com/assets/colab-badge.svg\" alt=\"Open In Colab\"/></a>"
      ]
    },
    {
      "cell_type": "code",
      "metadata": {
        "colab": {
          "base_uri": "https://localhost:8080/"
        },
        "id": "dcec6d66",
        "outputId": "6c30c538-d394-4209-fa30-69f6431c280b"
      },
      "source": [
        "# Header padrão para todos os notebooks\n",
        "\"\"\"\n",
        "# PLN - B2W Reviews Analysis\n",
        "# Operação 6: [Nome da Operação]\n",
        "# Equipe: Wesley, Averinaldo, Carlos Daniel, Paulo Henrique\n",
        "# UFPI - 2024.2\n",
        "\"\"\"\n",
        "\n",
        "# Imports padrão\n",
        "import pandas as pd\n",
        "import numpy as np\n",
        "import matplotlib.pyplot as plt\n",
        "import seaborn as sns\n",
        "from google.colab import drive\n",
        "import warnings\n",
        "warnings.filterwarnings('ignore')\n",
        "\n",
        "# Configurações\n",
        "plt.style.use('seaborn-v0_8')\n",
        "sns.set_palette(\"husl\")\n",
        "pd.set_option('display.max_columns', None)\n",
        "\n",
        "# Mount Drive e Setup\n",
        "drive.mount('/content/drive')\n",
        "BASE_PATH = '/content/drive/MyDrive/PLN_B2W_Reviews'\n",
        "\n",
        "print(\"🚀 Notebook configurado com sucesso!\")"
      ],
      "execution_count": 3,
      "outputs": [
        {
          "output_type": "stream",
          "name": "stdout",
          "text": [
            "Drive already mounted at /content/drive; to attempt to forcibly remount, call drive.mount(\"/content/drive\", force_remount=True).\n",
            "🚀 Notebook configurado com sucesso!\n"
          ]
        }
      ]
    },
    {
      "cell_type": "code",
      "metadata": {
        "colab": {
          "base_uri": "https://localhost:8080/"
        },
        "id": "f2e259f0",
        "outputId": "afe541d9-e4cc-4c17-94f4-3cce9d24254f"
      },
      "source": [
        "import os\n",
        "\n",
        "# List contents of the parent directory of the path provided by the user\n",
        "parent_dataset_path = os.path.join(BASE_PATH, 'data')\n",
        "files_in_parent_dataset = os.listdir(parent_dataset_path)\n",
        "print(files_in_parent_dataset)"
      ],
      "execution_count": 5,
      "outputs": [
        {
          "output_type": "stream",
          "name": "stdout",
          "text": [
            "['temp', 'raw', 'processed']\n"
          ]
        }
      ]
    },
    {
      "cell_type": "code",
      "metadata": {
        "colab": {
          "base_uri": "https://localhost:8080/",
          "height": 241
        },
        "id": "ef38d450",
        "outputId": "6f7ee90d-e9e9-432b-954c-0548e392d3da"
      },
      "source": [
        "# Caminho para o arquivo de treino\n",
        "train_data_path = os.path.join(BASE_PATH, 'data', 'processed', 'X_train.csv')\n",
        "\n",
        "# Carregar os dados de treino\n",
        "try:\n",
        "    df_train = pd.read_csv(train_data_path)\n",
        "    print(f\"Arquivo {train_data_path} carregado com sucesso.\")\n",
        "    display(df_train.head())\n",
        "except FileNotFoundError:\n",
        "    print(f\"Erro: Arquivo não encontrado em {train_data_path}\")\n",
        "    print(\"Por favor, verifique o caminho do arquivo.\")"
      ],
      "execution_count": 6,
      "outputs": [
        {
          "output_type": "stream",
          "name": "stdout",
          "text": [
            "Arquivo /content/drive/MyDrive/PLN_B2W_Reviews/data/processed/X_train.csv carregado com sucesso.\n"
          ]
        },
        {
          "output_type": "display_data",
          "data": {
            "text/plain": [
              "                                         review_text\n",
              "0  Recomendo a todos. Fiquei com receio da cor po...\n",
              "1  Ótimo produto, excelente câmera e processador ...\n",
              "2  Excelente produto e melhor ainda a agilidade d...\n",
              "3  Excelente produto muito bom chegou em bom esta...\n",
              "4  Já conhecia o produto, não é um produto perfei..."
            ],
            "text/html": [
              "\n",
              "  <div id=\"df-871d64e8-b23a-439e-ab15-7ded9ebe5a11\" class=\"colab-df-container\">\n",
              "    <div>\n",
              "<style scoped>\n",
              "    .dataframe tbody tr th:only-of-type {\n",
              "        vertical-align: middle;\n",
              "    }\n",
              "\n",
              "    .dataframe tbody tr th {\n",
              "        vertical-align: top;\n",
              "    }\n",
              "\n",
              "    .dataframe thead th {\n",
              "        text-align: right;\n",
              "    }\n",
              "</style>\n",
              "<table border=\"1\" class=\"dataframe\">\n",
              "  <thead>\n",
              "    <tr style=\"text-align: right;\">\n",
              "      <th></th>\n",
              "      <th>review_text</th>\n",
              "    </tr>\n",
              "  </thead>\n",
              "  <tbody>\n",
              "    <tr>\n",
              "      <th>0</th>\n",
              "      <td>Recomendo a todos. Fiquei com receio da cor po...</td>\n",
              "    </tr>\n",
              "    <tr>\n",
              "      <th>1</th>\n",
              "      <td>Ótimo produto, excelente câmera e processador ...</td>\n",
              "    </tr>\n",
              "    <tr>\n",
              "      <th>2</th>\n",
              "      <td>Excelente produto e melhor ainda a agilidade d...</td>\n",
              "    </tr>\n",
              "    <tr>\n",
              "      <th>3</th>\n",
              "      <td>Excelente produto muito bom chegou em bom esta...</td>\n",
              "    </tr>\n",
              "    <tr>\n",
              "      <th>4</th>\n",
              "      <td>Já conhecia o produto, não é um produto perfei...</td>\n",
              "    </tr>\n",
              "  </tbody>\n",
              "</table>\n",
              "</div>\n",
              "    <div class=\"colab-df-buttons\">\n",
              "\n",
              "  <div class=\"colab-df-container\">\n",
              "    <button class=\"colab-df-convert\" onclick=\"convertToInteractive('df-871d64e8-b23a-439e-ab15-7ded9ebe5a11')\"\n",
              "            title=\"Convert this dataframe to an interactive table.\"\n",
              "            style=\"display:none;\">\n",
              "\n",
              "  <svg xmlns=\"http://www.w3.org/2000/svg\" height=\"24px\" viewBox=\"0 -960 960 960\">\n",
              "    <path d=\"M120-120v-720h720v720H120Zm60-500h600v-160H180v160Zm220 220h160v-160H400v160Zm0 220h160v-160H400v160ZM180-400h160v-160H180v160Zm440 0h160v-160H620v160ZM180-180h160v-160H180v160Zm440 0h160v-160H620v160Z\"/>\n",
              "  </svg>\n",
              "    </button>\n",
              "\n",
              "  <style>\n",
              "    .colab-df-container {\n",
              "      display:flex;\n",
              "      gap: 12px;\n",
              "    }\n",
              "\n",
              "    .colab-df-convert {\n",
              "      background-color: #E8F0FE;\n",
              "      border: none;\n",
              "      border-radius: 50%;\n",
              "      cursor: pointer;\n",
              "      display: none;\n",
              "      fill: #1967D2;\n",
              "      height: 32px;\n",
              "      padding: 0 0 0 0;\n",
              "      width: 32px;\n",
              "    }\n",
              "\n",
              "    .colab-df-convert:hover {\n",
              "      background-color: #E2EBFA;\n",
              "      box-shadow: 0px 1px 2px rgba(60, 64, 67, 0.3), 0px 1px 3px 1px rgba(60, 64, 67, 0.15);\n",
              "      fill: #174EA6;\n",
              "    }\n",
              "\n",
              "    .colab-df-buttons div {\n",
              "      margin-bottom: 4px;\n",
              "    }\n",
              "\n",
              "    [theme=dark] .colab-df-convert {\n",
              "      background-color: #3B4455;\n",
              "      fill: #D2E3FC;\n",
              "    }\n",
              "\n",
              "    [theme=dark] .colab-df-convert:hover {\n",
              "      background-color: #434B5C;\n",
              "      box-shadow: 0px 1px 3px 1px rgba(0, 0, 0, 0.15);\n",
              "      filter: drop-shadow(0px 1px 2px rgba(0, 0, 0, 0.3));\n",
              "      fill: #FFFFFF;\n",
              "    }\n",
              "  </style>\n",
              "\n",
              "    <script>\n",
              "      const buttonEl =\n",
              "        document.querySelector('#df-871d64e8-b23a-439e-ab15-7ded9ebe5a11 button.colab-df-convert');\n",
              "      buttonEl.style.display =\n",
              "        google.colab.kernel.accessAllowed ? 'block' : 'none';\n",
              "\n",
              "      async function convertToInteractive(key) {\n",
              "        const element = document.querySelector('#df-871d64e8-b23a-439e-ab15-7ded9ebe5a11');\n",
              "        const dataTable =\n",
              "          await google.colab.kernel.invokeFunction('convertToInteractive',\n",
              "                                                    [key], {});\n",
              "        if (!dataTable) return;\n",
              "\n",
              "        const docLinkHtml = 'Like what you see? Visit the ' +\n",
              "          '<a target=\"_blank\" href=https://colab.research.google.com/notebooks/data_table.ipynb>data table notebook</a>'\n",
              "          + ' to learn more about interactive tables.';\n",
              "        element.innerHTML = '';\n",
              "        dataTable['output_type'] = 'display_data';\n",
              "        await google.colab.output.renderOutput(dataTable, element);\n",
              "        const docLink = document.createElement('div');\n",
              "        docLink.innerHTML = docLinkHtml;\n",
              "        element.appendChild(docLink);\n",
              "      }\n",
              "    </script>\n",
              "  </div>\n",
              "\n",
              "\n",
              "    <div id=\"df-a9bde05b-18e4-44d5-b319-ea3d2c6f4c2d\">\n",
              "      <button class=\"colab-df-quickchart\" onclick=\"quickchart('df-a9bde05b-18e4-44d5-b319-ea3d2c6f4c2d')\"\n",
              "                title=\"Suggest charts\"\n",
              "                style=\"display:none;\">\n",
              "\n",
              "<svg xmlns=\"http://www.w3.org/2000/svg\" height=\"24px\"viewBox=\"0 0 24 24\"\n",
              "     width=\"24px\">\n",
              "    <g>\n",
              "        <path d=\"M19 3H5c-1.1 0-2 .9-2 2v14c0 1.1.9 2 2 2h14c1.1 0 2-.9 2-2V5c0-1.1-.9-2-2-2zM9 17H7v-7h2v7zm4 0h-2V7h2v10zm4 0h-2v-4h2v4z\"/>\n",
              "    </g>\n",
              "</svg>\n",
              "      </button>\n",
              "\n",
              "<style>\n",
              "  .colab-df-quickchart {\n",
              "      --bg-color: #E8F0FE;\n",
              "      --fill-color: #1967D2;\n",
              "      --hover-bg-color: #E2EBFA;\n",
              "      --hover-fill-color: #174EA6;\n",
              "      --disabled-fill-color: #AAA;\n",
              "      --disabled-bg-color: #DDD;\n",
              "  }\n",
              "\n",
              "  [theme=dark] .colab-df-quickchart {\n",
              "      --bg-color: #3B4455;\n",
              "      --fill-color: #D2E3FC;\n",
              "      --hover-bg-color: #434B5C;\n",
              "      --hover-fill-color: #FFFFFF;\n",
              "      --disabled-bg-color: #3B4455;\n",
              "      --disabled-fill-color: #666;\n",
              "  }\n",
              "\n",
              "  .colab-df-quickchart {\n",
              "    background-color: var(--bg-color);\n",
              "    border: none;\n",
              "    border-radius: 50%;\n",
              "    cursor: pointer;\n",
              "    display: none;\n",
              "    fill: var(--fill-color);\n",
              "    height: 32px;\n",
              "    padding: 0;\n",
              "    width: 32px;\n",
              "  }\n",
              "\n",
              "  .colab-df-quickchart:hover {\n",
              "    background-color: var(--hover-bg-color);\n",
              "    box-shadow: 0 1px 2px rgba(60, 64, 67, 0.3), 0 1px 3px 1px rgba(60, 64, 67, 0.15);\n",
              "    fill: var(--button-hover-fill-color);\n",
              "  }\n",
              "\n",
              "  .colab-df-quickchart-complete:disabled,\n",
              "  .colab-df-quickchart-complete:disabled:hover {\n",
              "    background-color: var(--disabled-bg-color);\n",
              "    fill: var(--disabled-fill-color);\n",
              "    box-shadow: none;\n",
              "  }\n",
              "\n",
              "  .colab-df-spinner {\n",
              "    border: 2px solid var(--fill-color);\n",
              "    border-color: transparent;\n",
              "    border-bottom-color: var(--fill-color);\n",
              "    animation:\n",
              "      spin 1s steps(1) infinite;\n",
              "  }\n",
              "\n",
              "  @keyframes spin {\n",
              "    0% {\n",
              "      border-color: transparent;\n",
              "      border-bottom-color: var(--fill-color);\n",
              "      border-left-color: var(--fill-color);\n",
              "    }\n",
              "    20% {\n",
              "      border-color: transparent;\n",
              "      border-left-color: var(--fill-color);\n",
              "      border-top-color: var(--fill-color);\n",
              "    }\n",
              "    30% {\n",
              "      border-color: transparent;\n",
              "      border-left-color: var(--fill-color);\n",
              "      border-top-color: var(--fill-color);\n",
              "      border-right-color: var(--fill-color);\n",
              "    }\n",
              "    40% {\n",
              "      border-color: transparent;\n",
              "      border-right-color: var(--fill-color);\n",
              "      border-top-color: var(--fill-color);\n",
              "    }\n",
              "    60% {\n",
              "      border-color: transparent;\n",
              "      border-right-color: var(--fill-color);\n",
              "    }\n",
              "    80% {\n",
              "      border-color: transparent;\n",
              "      border-right-color: var(--fill-color);\n",
              "      border-bottom-color: var(--fill-color);\n",
              "    }\n",
              "    90% {\n",
              "      border-color: transparent;\n",
              "      border-bottom-color: var(--fill-color);\n",
              "    }\n",
              "  }\n",
              "</style>\n",
              "\n",
              "      <script>\n",
              "        async function quickchart(key) {\n",
              "          const quickchartButtonEl =\n",
              "            document.querySelector('#' + key + ' button');\n",
              "          quickchartButtonEl.disabled = true;  // To prevent multiple clicks.\n",
              "          quickchartButtonEl.classList.add('colab-df-spinner');\n",
              "          try {\n",
              "            const charts = await google.colab.kernel.invokeFunction(\n",
              "                'suggestCharts', [key], {});\n",
              "          } catch (error) {\n",
              "            console.error('Error during call to suggestCharts:', error);\n",
              "          }\n",
              "          quickchartButtonEl.classList.remove('colab-df-spinner');\n",
              "          quickchartButtonEl.classList.add('colab-df-quickchart-complete');\n",
              "        }\n",
              "        (() => {\n",
              "          let quickchartButtonEl =\n",
              "            document.querySelector('#df-a9bde05b-18e4-44d5-b319-ea3d2c6f4c2d button');\n",
              "          quickchartButtonEl.style.display =\n",
              "            google.colab.kernel.accessAllowed ? 'block' : 'none';\n",
              "        })();\n",
              "      </script>\n",
              "    </div>\n",
              "\n",
              "    </div>\n",
              "  </div>\n"
            ],
            "application/vnd.google.colaboratory.intrinsic+json": {
              "type": "dataframe",
              "summary": "{\n  \"name\": \"    print(\\\"Por favor, verifique o caminho do arquivo\",\n  \"rows\": 5,\n  \"fields\": [\n    {\n      \"column\": \"review_text\",\n      \"properties\": {\n        \"dtype\": \"string\",\n        \"num_unique_values\": 5,\n        \"samples\": [\n          \"\\u00d3timo produto, excelente c\\u00e2mera e processador \\u00e1gil.\",\n          \"J\\u00e1 conhecia o produto, n\\u00e3o \\u00e9 um produto perfeito, mas atende com boas configura\\u00e7\\u00f5es.\",\n          \"Excelente produto e melhor ainda a agilidade da entrega que chegou muito antes do prazo previsto!.\"\n        ],\n        \"semantic_type\": \"\",\n        \"description\": \"\"\n      }\n    }\n  ]\n}"
            }
          },
          "metadata": {}
        }
      ]
    },
    {
      "cell_type": "code",
      "metadata": {
        "colab": {
          "base_uri": "https://localhost:8080/",
          "height": 580
        },
        "id": "b6f22457",
        "outputId": "e1272f15-8350-444f-d54b-23d578ff8cac"
      },
      "source": [
        "# Calcular o comprimento de cada avaliação\n",
        "review_lengths = df_train['review_text'].astype(str).apply(len)\n",
        "\n",
        "# Plotar o histograma dos comprimentos\n",
        "plt.figure(figsize=(10, 6))\n",
        "sns.histplot(review_lengths, bins=50, kde=True)\n",
        "plt.title('Distribuição do Comprimento das Avaliações no Conjunto de Treino')\n",
        "plt.xlabel('Comprimento da Avaliação (Número de Caracteres)')\n",
        "plt.ylabel('Frequência')\n",
        "plt.show()\n",
        "\n",
        "# Exibir algumas estatísticas descritivas\n",
        "print(\"\\nEstatísticas descritivas do comprimento das avaliações:\")\n",
        "print(review_lengths.describe())"
      ],
      "execution_count": 8,
      "outputs": [
        {
          "output_type": "display_data",
          "data": {
            "text/plain": [
              "<Figure size 1000x600 with 1 Axes>"
            ],
            "image/png": "[encoded data removed]"
          },
          "metadata": {}
        },
        {
          "output_type": "stream",
          "name": "stdout",
          "text": [
            "\n",
            "Estatísticas descritivas do comprimento das avaliações:\n",
            "count    4602.000000\n",
            "mean      127.882877\n",
            "std       119.139168\n",
            "min        50.000000\n",
            "25%        66.000000\n",
            "50%        89.000000\n",
            "75%       137.000000\n",
            "max      1463.000000\n",
            "Name: review_text, dtype: float64\n"
          ]
        }
      ]
    },
    {
      "cell_type": "code",
      "metadata": {
        "colab": {
          "base_uri": "https://localhost:8080/"
        },
        "id": "15d57c90",
        "outputId": "e6ad4cbe-23b8-43ef-dc72-2938d2eedf50"
      },
      "source": [
        "import tensorflow as tf\n",
        "from tensorflow.keras.layers import TextVectorization\n",
        "\n",
        "# Determinar o maxlen com base no comprimento máximo das avaliações no treino\n",
        "max_review_length = review_lengths.max()\n",
        "print(f\"Comprimento máximo das avaliações no conjunto de treino: {max_review_length}\")\n",
        "\n",
        "# Configurar a camada TextVectorization\n",
        "# Vamos usar um vocabulário razoável, por exemplo, 10000 das palavras mais frequentes,\n",
        "# e definir o maxlen para o comprimento máximo para evitar truncamento.\n",
        "# Ajuste max_tokens conforme necessário para o tamanho desejado do vocabulário.\n",
        "max_tokens = 10000\n",
        "vectorize_layer = TextVectorization(\n",
        "    max_tokens=max_tokens,\n",
        "    output_sequence_length=max_review_length)\n",
        "\n",
        "# Adaptar a camada aos dados de treino para construir o vocabulário\n",
        "# Passamos a coluna 'review_text' do DataFrame de treino\n",
        "vectorize_layer.adapt(df_train['review_text'])\n",
        "\n",
        "# Obter o vocabulário gerado e seu tamanho\n",
        "vocabulary = vectorize_layer.get_vocabulary()\n",
        "vocab_size = len(vocabulary)\n",
        "\n",
        "print(f\"\\nTamanho do vocabulário gerado: {vocab_size}\")\n",
        "\n",
        "# Exemplo de vetorização de uma avaliação\n",
        "# vectorized_text = vectorize_layer(df_train['review_text'].iloc[0])\n",
        "# print(\"\\nExemplo de avaliação vetorizada:\")\n",
        "# print(vectorized_text)"
      ],
      "execution_count": 12,
      "outputs": [
        {
          "output_type": "stream",
          "name": "stdout",
          "text": [
            "Comprimento máximo das avaliações no conjunto de treino: 1463\n",
            "\n",
            "Tamanho do vocabulário gerado: 7157\n"
          ]
        }
      ]
    },
    {
      "cell_type": "code",
      "metadata": {
        "colab": {
          "base_uri": "https://localhost:8080/"
        },
        "id": "d972d25f",
        "outputId": "36b15940-95b5-4a54-fa72-84f0683cec3f"
      },
      "source": [
        "# Aplicar a camada TextVectorization aos dados de treino\n",
        "vectorized_reviews = vectorize_layer(df_train['review_text'])\n",
        "\n",
        "print(\"Primeira avaliação vetorizada:\")\n",
        "print(vectorized_reviews[0])\n",
        "print(\"\\nFormato do tensor vetorizado:\")\n",
        "print(vectorized_reviews.shape)"
      ],
      "execution_count": 11,
      "outputs": [
        {
          "output_type": "stream",
          "name": "stdout",
          "text": [
            "Primeira avaliação vetorizada:\n",
            "tf.Tensor([16  4 83 ...  0  0  0], shape=(1463,), dtype=int64)\n",
            "\n",
            "Formato do tensor vetorizado:\n",
            "(4602, 1463)\n"
          ]
        }
      ]
    },
    {
      "cell_type": "code",
      "metadata": {
        "colab": {
          "base_uri": "https://localhost:8080/"
        },
        "id": "6328cf20",
        "outputId": "2235b026-57d4-4ab9-fe07-13dd0f0784cb"
      },
      "source": [
        "# Converter o tensor vetorizado para um array NumPy\n",
        "vectorized_reviews_np = vectorized_reviews.numpy()\n",
        "\n",
        "# Converter o array NumPy para um DataFrame pandas\n",
        "# Cada coluna representará um token na sequência vetorizada\n",
        "vectorized_df = pd.DataFrame(vectorized_reviews_np)\n",
        "\n",
        "# Definir o caminho para salvar o arquivo CSV\n",
        "output_dir = os.path.join(BASE_PATH, 'data', 'processed')\n",
        "output_filename = 'vectorized_reviews_train.csv'\n",
        "output_path = os.path.join(output_dir, output_filename)\n",
        "\n",
        "# Salvar o DataFrame como CSV\n",
        "# Usamos index=False para não escrever o índice do DataFrame como uma coluna no CSV\n",
        "vectorized_df.to_csv(output_path, index=False)\n",
        "\n",
        "print(f\"Avaliações vetorizadas salvas com sucesso em: {output_path}\")"
      ],
      "execution_count": 13,
      "outputs": [
        {
          "output_type": "stream",
          "name": "stdout",
          "text": [
            "Avaliações vetorizadas salvas com sucesso em: /content/drive/MyDrive/PLN_B2W_Reviews/data/processed/vectorized_reviews_train.csv\n"
          ]
        }
      ]
    }
  ]
}