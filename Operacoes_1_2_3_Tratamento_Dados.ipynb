{
  "nbformat": 4,
  "nbformat_minor": 0,
  "metadata": {
    "colab": {
      "provenance": [],
      "mount_file_id": "1_-l7Xztx0haKqfyMue6CXOl3fCFZbUbL",
      "authorship_tag": "ABX9TyO1DIGAdn5pbrIpkyaxRr6y",
      "include_colab_link": true
    },
    "kernelspec": {
      "name": "python3",
      "display_name": "Python 3"
    },
    "language_info": {
      "name": "python"
    }
  },
  "cells": [
    {
      "cell_type": "markdown",
      "metadata": {
        "id": "view-in-github",
        "colab_type": "text"
      },
      "source": [
        "<a href=\"https://colab.research.google.com/github/wesleycoutinhodev/pln-b2w-reviews/blob/main/Operacoes_1_2_3_Tratamento_Dados.ipynb\" target=\"_parent\"><img src=\"https://colab.research.google.com/assets/colab-badge.svg\" alt=\"Open In Colab\"/></a>"
      ]
    },
    {
      "cell_type": "code",
      "execution_count": 1,
      "metadata": {
        "id": "s1Zj7FC0qeIt"
      },
      "outputs": [],
      "source": [
        "# Notebook: Operacoes_1_2_3_Tratamento_Dados.ipynb\n",
        "# ==================================================\n",
        "\n",
        "# 1. SETUP INICIAL\n",
        "from google.colab import drive\n",
        "import pandas as pd\n",
        "import numpy as np\n",
        "import matplotlib.pyplot as plt\n",
        "import seaborn as sns\n",
        "import warnings\n",
        "warnings.filterwarnings('ignore')\n",
        "\n",
        "# Mount Drive\n",
        "drive.mount('/content/drive')\n",
        "BASE_PATH = '/content/drive/MyDrive/PLN_B2W_Reviews'\n",
        "\n",
        "# Criar estrutura se não existir\n",
        "import os\n",
        "for folder in ['data/raw', 'data/processed', 'results/analysis']:\n",
        "    os.makedirs(f\"{BASE_PATH}/{folder}\", exist_ok=True)"
      ]
    },
    {
      "cell_type": "code",
      "source": [
        "# 2. DOWNLOAD DO DATASET\n",
        "!wget -O /content/drive/MyDrive/Colab Notebooks/PLN_B2W_Reviews/data/raw/B2W-Reviews01.csv\n",
        "\n",
        "# 3. CARREGAMENTO E PRIMEIRA ANÁLISE\n",
        "df = pd.read_csv(f'{BASE_PATH}/data/raw/B2W-Reviews01.csv')\n",
        "print(f\"📊 Dataset carregado: {df.shape[0]:,} linhas x {df.shape[1]} colunas\")\n",
        "print(f\"📋 Colunas: {list(df.columns)}\")\n",
        "\n",
        "\n",
        "df.info()"
      ],
      "metadata": {
        "id": "Yb44kdR5sLXi"
      },
      "execution_count": null,
      "outputs": []
    }
  ]
}